{
 "cells": [
  {
   "cell_type": "code",
   "execution_count": 3,
   "metadata": {},
   "outputs": [
    {
     "name": "stderr",
     "output_type": "stream",
     "text": [
      "/Library/Frameworks/Python.framework/Versions/3.6/lib/python3.6/site-packages/lightgbm/__init__.py:48: UserWarning: Starting from version 2.2.1, the library file in distribution wheels for macOS is built by the Apple Clang (Xcode_8.3.3) compiler.\n",
      "This means that in case of installing LightGBM from PyPI via the ``pip install lightgbm`` command, you don't need to install the gcc compiler anymore.\n",
      "Instead of that, you need to install the OpenMP library, which is required for running LightGBM on the system with the Apple Clang compiler.\n",
      "You can install the OpenMP library by the following command: ``brew install libomp``.\n",
      "  \"You can install the OpenMP library by the following command: ``brew install libomp``.\", UserWarning)\n"
     ]
    }
   ],
   "source": [
    "import pandas as pd\n",
    "import numpy as np\n",
    "\n",
    "from scipy.sparse import hstack, csr_matrix, vstack\n",
    "\n",
    "from sklearn.feature_extraction.text import TfidfVectorizer, CountVectorizer\n",
    "from sklearn.decomposition import TruncatedSVD\n",
    "from sklearn.model_selection import StratifiedShuffleSplit, StratifiedKFold, train_test_split\n",
    "from sklearn.metrics import f1_score\n",
    "\n",
    "from sklearn.ensemble import *\n",
    "from sklearn.linear_model import *\n",
    "from sklearn.svm import SVC, LinearSVC\n",
    "from sklearn.neighbors import KNeighborsClassifier\n",
    "from sklearn.neural_network import MLPClassifier\n",
    "from sklearn.decomposition import *\n",
    "from sklearn.semi_supervised import *\n",
    "\n",
    "from tqdm import *\n",
    "\n",
    "import matplotlib.pyplot as plt\n",
    "import gc\n",
    "import dill\n",
    "\n",
    "import lightgbm as lgb\n",
    "%matplotlib inline"
   ]
  },
  {
   "cell_type": "code",
   "execution_count": 4,
   "metadata": {},
   "outputs": [
    {
     "data": {
      "text/html": [
       "<div>\n",
       "<style scoped>\n",
       "    .dataframe tbody tr th:only-of-type {\n",
       "        vertical-align: middle;\n",
       "    }\n",
       "\n",
       "    .dataframe tbody tr th {\n",
       "        vertical-align: top;\n",
       "    }\n",
       "\n",
       "    .dataframe thead th {\n",
       "        text-align: right;\n",
       "    }\n",
       "</style>\n",
       "<table border=\"1\" class=\"dataframe\">\n",
       "  <thead>\n",
       "    <tr style=\"text-align: right;\">\n",
       "      <th></th>\n",
       "      <th>label</th>\n",
       "      <th>content</th>\n",
       "    </tr>\n",
       "  </thead>\n",
       "  <tbody>\n",
       "    <tr>\n",
       "      <th>0</th>\n",
       "      <td>H06</td>\n",
       "      <td>cho da giac loi n dinh left n &gt; 0 right . so t...</td>\n",
       "    </tr>\n",
       "    <tr>\n",
       "      <th>1</th>\n",
       "      <td>H08</td>\n",
       "      <td>trong khong gian text ox yz , cho hai duong th...</td>\n",
       "    </tr>\n",
       "    <tr>\n",
       "      <th>2</th>\n",
       "      <td>H08</td>\n",
       "      <td>trong khong gian, cho mat cau left s right : l...</td>\n",
       "    </tr>\n",
       "    <tr>\n",
       "      <th>3</th>\n",
       "      <td>H08</td>\n",
       "      <td>trong khong gian voi he toa do oxyz , cho vect...</td>\n",
       "    </tr>\n",
       "    <tr>\n",
       "      <th>4</th>\n",
       "      <td>D01</td>\n",
       "      <td>tim tap gia tri lon nhat, gia tri nho nhat cua...</td>\n",
       "    </tr>\n",
       "  </tbody>\n",
       "</table>\n",
       "</div>"
      ],
      "text/plain": [
       "  label                                            content\n",
       "0   H06  cho da giac loi n dinh left n > 0 right . so t...\n",
       "1   H08  trong khong gian text ox yz , cho hai duong th...\n",
       "2   H08  trong khong gian, cho mat cau left s right : l...\n",
       "3   H08  trong khong gian voi he toa do oxyz , cho vect...\n",
       "4   D01  tim tap gia tri lon nhat, gia tri nho nhat cua..."
      ]
     },
     "execution_count": 4,
     "metadata": {},
     "output_type": "execute_result"
    }
   ],
   "source": [
    "df = pd.read_csv(\"questions.csv\").drop(['answers_encoded'], axis=1)\n",
    "df.columns = ['label', 'content']\n",
    "df = df.sample(frac=1).reset_index(drop=True)\n",
    "df.head()"
   ]
  },
  {
   "cell_type": "code",
   "execution_count": 5,
   "metadata": {},
   "outputs": [
    {
     "data": {
      "text/plain": [
       "array(['H06', 'H08', 'D01', 'D08', 'D07', 'H07', 'H03', 'D09', 'H05',\n",
       "       'D05', 'D02', 'D03', 'D06', 'H01', 'H02', 'D10', 'H04', 'D04'],\n",
       "      dtype=object)"
      ]
     },
     "execution_count": 5,
     "metadata": {},
     "output_type": "execute_result"
    }
   ],
   "source": [
    "df['label'].unique()"
   ]
  },
  {
   "cell_type": "code",
   "execution_count": 6,
   "metadata": {},
   "outputs": [
    {
     "data": {
      "text/plain": [
       "9829"
      ]
     },
     "execution_count": 6,
     "metadata": {},
     "output_type": "execute_result"
    }
   ],
   "source": [
    "len(df)"
   ]
  },
  {
   "cell_type": "code",
   "execution_count": 7,
   "metadata": {},
   "outputs": [
    {
     "data": {
      "text/html": [
       "<div>\n",
       "<style scoped>\n",
       "    .dataframe tbody tr th:only-of-type {\n",
       "        vertical-align: middle;\n",
       "    }\n",
       "\n",
       "    .dataframe tbody tr th {\n",
       "        vertical-align: top;\n",
       "    }\n",
       "\n",
       "    .dataframe thead th {\n",
       "        text-align: right;\n",
       "    }\n",
       "</style>\n",
       "<table border=\"1\" class=\"dataframe\">\n",
       "  <thead>\n",
       "    <tr style=\"text-align: right;\">\n",
       "      <th></th>\n",
       "      <th>content</th>\n",
       "    </tr>\n",
       "    <tr>\n",
       "      <th>label</th>\n",
       "      <th></th>\n",
       "    </tr>\n",
       "  </thead>\n",
       "  <tbody>\n",
       "    <tr>\n",
       "      <th>D01</th>\n",
       "      <td>727</td>\n",
       "    </tr>\n",
       "    <tr>\n",
       "      <th>D02</th>\n",
       "      <td>494</td>\n",
       "    </tr>\n",
       "    <tr>\n",
       "      <th>D03</th>\n",
       "      <td>293</td>\n",
       "    </tr>\n",
       "    <tr>\n",
       "      <th>D04</th>\n",
       "      <td>305</td>\n",
       "    </tr>\n",
       "    <tr>\n",
       "      <th>D05</th>\n",
       "      <td>675</td>\n",
       "    </tr>\n",
       "    <tr>\n",
       "      <th>D06</th>\n",
       "      <td>436</td>\n",
       "    </tr>\n",
       "    <tr>\n",
       "      <th>D07</th>\n",
       "      <td>1529</td>\n",
       "    </tr>\n",
       "    <tr>\n",
       "      <th>D08</th>\n",
       "      <td>655</td>\n",
       "    </tr>\n",
       "    <tr>\n",
       "      <th>D09</th>\n",
       "      <td>749</td>\n",
       "    </tr>\n",
       "    <tr>\n",
       "      <th>D10</th>\n",
       "      <td>436</td>\n",
       "    </tr>\n",
       "    <tr>\n",
       "      <th>H01</th>\n",
       "      <td>286</td>\n",
       "    </tr>\n",
       "    <tr>\n",
       "      <th>H02</th>\n",
       "      <td>194</td>\n",
       "    </tr>\n",
       "    <tr>\n",
       "      <th>H03</th>\n",
       "      <td>703</td>\n",
       "    </tr>\n",
       "    <tr>\n",
       "      <th>H04</th>\n",
       "      <td>364</td>\n",
       "    </tr>\n",
       "    <tr>\n",
       "      <th>H05</th>\n",
       "      <td>465</td>\n",
       "    </tr>\n",
       "    <tr>\n",
       "      <th>H06</th>\n",
       "      <td>609</td>\n",
       "    </tr>\n",
       "    <tr>\n",
       "      <th>H07</th>\n",
       "      <td>734</td>\n",
       "    </tr>\n",
       "    <tr>\n",
       "      <th>H08</th>\n",
       "      <td>175</td>\n",
       "    </tr>\n",
       "  </tbody>\n",
       "</table>\n",
       "</div>"
      ],
      "text/plain": [
       "       content\n",
       "label         \n",
       "D01        727\n",
       "D02        494\n",
       "D03        293\n",
       "D04        305\n",
       "D05        675\n",
       "D06        436\n",
       "D07       1529\n",
       "D08        655\n",
       "D09        749\n",
       "D10        436\n",
       "H01        286\n",
       "H02        194\n",
       "H03        703\n",
       "H04        364\n",
       "H05        465\n",
       "H06        609\n",
       "H07        734\n",
       "H08        175"
      ]
     },
     "execution_count": 7,
     "metadata": {},
     "output_type": "execute_result"
    }
   ],
   "source": [
    "df.groupby(['label']).count()"
   ]
  },
  {
   "cell_type": "code",
   "execution_count": 8,
   "metadata": {},
   "outputs": [],
   "source": [
    "train_df, test_df = train_test_split(df, test_size=0.2, stratify=df['label'], random_state=0)"
   ]
  },
  {
   "cell_type": "markdown",
   "metadata": {},
   "source": [
    "Load train và test data"
   ]
  },
  {
   "cell_type": "code",
   "execution_count": 9,
   "metadata": {},
   "outputs": [],
   "source": [
    "# Load data\n",
    "# train_df = pd.read_csv(\"train.csv\")\n",
    "# test_df = pd.read_csv(\"test.csv\")"
   ]
  },
  {
   "cell_type": "code",
   "execution_count": 10,
   "metadata": {},
   "outputs": [
    {
     "data": {
      "text/html": [
       "<div>\n",
       "<style scoped>\n",
       "    .dataframe tbody tr th:only-of-type {\n",
       "        vertical-align: middle;\n",
       "    }\n",
       "\n",
       "    .dataframe tbody tr th {\n",
       "        vertical-align: top;\n",
       "    }\n",
       "\n",
       "    .dataframe thead th {\n",
       "        text-align: right;\n",
       "    }\n",
       "</style>\n",
       "<table border=\"1\" class=\"dataframe\">\n",
       "  <thead>\n",
       "    <tr style=\"text-align: right;\">\n",
       "      <th></th>\n",
       "      <th>label</th>\n",
       "      <th>content</th>\n",
       "    </tr>\n",
       "  </thead>\n",
       "  <tbody>\n",
       "    <tr>\n",
       "      <th>2091</th>\n",
       "      <td>D07</td>\n",
       "      <td>cho ham so y = f left x right xac dinh tren ma...</td>\n",
       "    </tr>\n",
       "    <tr>\n",
       "      <th>7601</th>\n",
       "      <td>H06</td>\n",
       "      <td>cho hinh chop s.abc co day abc la tam giac vuo...</td>\n",
       "    </tr>\n",
       "    <tr>\n",
       "      <th>8377</th>\n",
       "      <td>H05</td>\n",
       "      <td>cho hinh chop s.abc co day abc vuong o c va bc...</td>\n",
       "    </tr>\n",
       "    <tr>\n",
       "      <th>7259</th>\n",
       "      <td>D09</td>\n",
       "      <td>tim int frac dx x^0 left x + 0 right dx answer...</td>\n",
       "    </tr>\n",
       "    <tr>\n",
       "      <th>6614</th>\n",
       "      <td>H03</td>\n",
       "      <td>cho s.abcd . sa = a . day la hinh vuong canh a...</td>\n",
       "    </tr>\n",
       "  </tbody>\n",
       "</table>\n",
       "</div>"
      ],
      "text/plain": [
       "     label                                            content\n",
       "2091   D07  cho ham so y = f left x right xac dinh tren ma...\n",
       "7601   H06  cho hinh chop s.abc co day abc la tam giac vuo...\n",
       "8377   H05  cho hinh chop s.abc co day abc vuong o c va bc...\n",
       "7259   D09  tim int frac dx x^0 left x + 0 right dx answer...\n",
       "6614   H03  cho s.abcd . sa = a . day la hinh vuong canh a..."
      ]
     },
     "execution_count": 10,
     "metadata": {},
     "output_type": "execute_result"
    }
   ],
   "source": [
    "train_df.head()"
   ]
  },
  {
   "cell_type": "code",
   "execution_count": 11,
   "metadata": {},
   "outputs": [
    {
     "data": {
      "text/html": [
       "<div>\n",
       "<style scoped>\n",
       "    .dataframe tbody tr th:only-of-type {\n",
       "        vertical-align: middle;\n",
       "    }\n",
       "\n",
       "    .dataframe tbody tr th {\n",
       "        vertical-align: top;\n",
       "    }\n",
       "\n",
       "    .dataframe thead th {\n",
       "        text-align: right;\n",
       "    }\n",
       "</style>\n",
       "<table border=\"1\" class=\"dataframe\">\n",
       "  <thead>\n",
       "    <tr style=\"text-align: right;\">\n",
       "      <th></th>\n",
       "      <th>label</th>\n",
       "      <th>content</th>\n",
       "    </tr>\n",
       "  </thead>\n",
       "  <tbody>\n",
       "    <tr>\n",
       "      <th>5134</th>\n",
       "      <td>H05</td>\n",
       "      <td>cho lang tru deu abc.a'b'c' .canh ben bang can...</td>\n",
       "    </tr>\n",
       "    <tr>\n",
       "      <th>6576</th>\n",
       "      <td>D02</td>\n",
       "      <td>xep 0 nguoi vao 0 ban tron khong danh so. hoi ...</td>\n",
       "    </tr>\n",
       "    <tr>\n",
       "      <th>2686</th>\n",
       "      <td>H03</td>\n",
       "      <td>cho hinh chop s.abcd overrightarrow sa = overr...</td>\n",
       "    </tr>\n",
       "    <tr>\n",
       "      <th>2218</th>\n",
       "      <td>H07</td>\n",
       "      <td>cho mat cau s left x + 0 right ^0 + left y + 0...</td>\n",
       "    </tr>\n",
       "    <tr>\n",
       "      <th>2880</th>\n",
       "      <td>H02</td>\n",
       "      <td>khang dinh nao sau day la sai ? answers: voi 0...</td>\n",
       "    </tr>\n",
       "  </tbody>\n",
       "</table>\n",
       "</div>"
      ],
      "text/plain": [
       "     label                                            content\n",
       "5134   H05  cho lang tru deu abc.a'b'c' .canh ben bang can...\n",
       "6576   D02  xep 0 nguoi vao 0 ban tron khong danh so. hoi ...\n",
       "2686   H03  cho hinh chop s.abcd overrightarrow sa = overr...\n",
       "2218   H07  cho mat cau s left x + 0 right ^0 + left y + 0...\n",
       "2880   H02  khang dinh nao sau day la sai ? answers: voi 0..."
      ]
     },
     "execution_count": 11,
     "metadata": {},
     "output_type": "execute_result"
    }
   ],
   "source": [
    "test_df.head()"
   ]
  },
  {
   "cell_type": "code",
   "execution_count": 12,
   "metadata": {},
   "outputs": [],
   "source": [
    "df = pd.concat([train_df, test_df], axis=0)\n",
    "# del train_df, test_df\n",
    "# gc.collect()"
   ]
  },
  {
   "cell_type": "markdown",
   "metadata": {},
   "source": [
    "Tạo feature TFIDF đơn giản"
   ]
  },
  {
   "cell_type": "code",
   "execution_count": 25,
   "metadata": {},
   "outputs": [],
   "source": [
    "tfidf = TfidfVectorizer(\n",
    "    dtype=np.float32,\n",
    "    min_df = 10, \n",
    "    max_df = 0.2, \n",
    "#     max_features=2000,\n",
    "    ngram_range=(2,3),\n",
    "    use_idf=True,\n",
    "#     sublinear_tf=True,\n",
    "    tokenizer=lambda x: x.split(\" \"),\n",
    "#     token_pattern=r'(?u)\\b\\w\\w+__\\([\\w\\s]*\\)'\n",
    ")"
   ]
  },
  {
   "cell_type": "code",
   "execution_count": 26,
   "metadata": {},
   "outputs": [],
   "source": [
    "X_train_tfidf = tfidf.fit_transform(train_df['content'])\n",
    "X_test_tfidf = tfidf.transform(test_df['content'])"
   ]
  },
  {
   "cell_type": "code",
   "execution_count": 27,
   "metadata": {},
   "outputs": [],
   "source": [
    "EXCLUED_COLS = ['id', 'content', 'label']\n",
    "static_cols = [c for c in train_df.columns if not c in EXCLUED_COLS]\n",
    "X_train_static = train_df[static_cols].values\n",
    "X_test_static = test_df[static_cols].values"
   ]
  },
  {
   "cell_type": "code",
   "execution_count": 32,
   "metadata": {},
   "outputs": [],
   "source": [
    "X_train = hstack([X_train_tfidf, csr_matrix(X_train_static)]).tocsr()\n",
    "X_test = hstack([X_test_tfidf, csr_matrix(X_test_static)]).tocsr()"
   ]
  },
  {
   "cell_type": "code",
   "execution_count": 33,
   "metadata": {},
   "outputs": [],
   "source": [
    "y_train = train_df['label'].values\n",
    "y_test = test_df['label'].values"
   ]
  },
  {
   "cell_type": "code",
   "execution_count": 34,
   "metadata": {},
   "outputs": [
    {
     "data": {
      "text/plain": [
       "((7863, 9650), (1966, 9650), (7863,))"
      ]
     },
     "execution_count": 34,
     "metadata": {},
     "output_type": "execute_result"
    }
   ],
   "source": [
    "X_train.shape, X_test.shape, y_train.shape"
   ]
  },
  {
   "cell_type": "code",
   "execution_count": 35,
   "metadata": {},
   "outputs": [],
   "source": [
    "# svd = TruncatedSVD(n_components=250)\n",
    "# X_train = svd.fit_transform(X_train)\n",
    "# X_test = svd.transform(X_test)"
   ]
  },
  {
   "cell_type": "code",
   "execution_count": 36,
   "metadata": {},
   "outputs": [
    {
     "data": {
      "text/plain": [
       "(7863, 9650)"
      ]
     },
     "execution_count": 36,
     "metadata": {},
     "output_type": "execute_result"
    }
   ],
   "source": [
    "X_train.shape"
   ]
  },
  {
   "cell_type": "markdown",
   "metadata": {},
   "source": [
    "# Ensemble method"
   ]
  },
  {
   "cell_type": "markdown",
   "metadata": {},
   "source": []
  },
  {
   "cell_type": "code",
   "execution_count": 37,
   "metadata": {},
   "outputs": [],
   "source": [
    "from sklearn.metrics import classification_report, confusion_matrix, accuracy_score\n",
    "from sklearn.utils.multiclass import unique_labels\n",
    "from imblearn.ensemble import BalancedBaggingClassifier"
   ]
  },
  {
   "cell_type": "code",
   "execution_count": 21,
   "metadata": {},
   "outputs": [
    {
     "data": {
      "text/plain": [
       "{'D07': 0,\n",
       " 'H06': 1,\n",
       " 'H05': 2,\n",
       " 'D09': 3,\n",
       " 'H03': 4,\n",
       " 'H04': 5,\n",
       " 'D06': 6,\n",
       " 'D01': 7,\n",
       " 'D04': 8,\n",
       " 'H07': 9,\n",
       " 'D05': 10,\n",
       " 'H01': 11,\n",
       " 'D02': 12,\n",
       " 'D10': 13,\n",
       " 'D08': 14,\n",
       " 'D03': 15,\n",
       " 'H02': 16,\n",
       " 'H08': 17}"
      ]
     },
     "execution_count": 21,
     "metadata": {},
     "output_type": "execute_result"
    }
   ],
   "source": [
    "classes_encoded = {}\n",
    "index = 0\n",
    "for y in y_train:\n",
    "    if y not in classes_encoded:\n",
    "        classes_encoded[y] = index\n",
    "        index += 1\n",
    "\n",
    "y_train = [classes_encoded[y] for y in y_train]\n",
    "y_test = [classes_encoded[y] for y in y_test]\n",
    "classes_encoded"
   ]
  },
  {
   "cell_type": "code",
   "execution_count": 38,
   "metadata": {},
   "outputs": [],
   "source": [
    "from sklearn.model_selection import cross_val_predict\n",
    "models = [\n",
    "#     lgb.LGBMClassifier(objective='multiclass', verbose=-1, learning_rate=0.01, max_depth=10, num_leaves=50, n_estimators=300, max_bin=4000,),\n",
    "#     RandomForestClassifier (n_estimators=100, max_depth=7, max_features=0.8, random_state=112),\n",
    "#     ExtraTreesClassifier (n_estimators=100, max_depth=5, max_features=0.7, random_state=1),\n",
    "#     BalancedBaggingClassifier(n_estimators=100, max_samples=0.7, max_features=0.7, n_jobs=-1, random_state=42),\n",
    "    SVC(C=5.0, gamma=0.05, probability=True),\n",
    "#     KNeighborsClassifier(n_neighbors=5, n_jobs=-1),\n",
    "    MLPClassifier(hidden_layer_sizes=(100), solver='adam', random_state=111),\n",
    "    LogisticRegression(C=5.0, n_jobs=-1, solver='lbfgs', random_state=112),\n",
    "#     LinearSVC(C=1.0, random_state=111)\n",
    "]"
   ]
  },
  {
   "cell_type": "code",
   "execution_count": 39,
   "metadata": {},
   "outputs": [
    {
     "name": "stdout",
     "output_type": "stream",
     "text": [
      "              precision    recall  f1-score   support\n",
      "\n",
      "         D01       0.94      0.90      0.92       145\n",
      "         D02       0.98      0.96      0.97        99\n",
      "         D03       0.92      0.93      0.92        58\n",
      "         D04       0.98      0.85      0.91        61\n",
      "         D05       0.94      0.97      0.95       135\n",
      "         D06       0.92      0.77      0.84        87\n",
      "         D07       0.87      0.96      0.91       306\n",
      "         D08       0.87      0.89      0.88       131\n",
      "         D09       0.95      0.89      0.92       150\n",
      "         D10       0.98      0.98      0.98        87\n",
      "         H01       0.88      0.88      0.88        57\n",
      "         H02       0.89      0.82      0.85        39\n",
      "         H03       0.81      0.87      0.84       141\n",
      "         H04       0.75      0.71      0.73        73\n",
      "         H05       0.72      0.85      0.78        93\n",
      "         H06       0.72      0.75      0.74       122\n",
      "         H07       0.83      0.80      0.81       147\n",
      "         H08       0.86      0.34      0.49        35\n",
      "\n",
      "    accuracy                           0.87      1966\n",
      "   macro avg       0.88      0.84      0.85      1966\n",
      "weighted avg       0.88      0.87      0.87      1966\n",
      "\n",
      "              precision    recall  f1-score   support\n",
      "\n",
      "         D01       0.96      0.91      0.94       145\n",
      "         D02       0.98      0.96      0.97        99\n",
      "         D03       0.90      0.97      0.93        58\n",
      "         D04       0.98      0.89      0.93        61\n",
      "         D05       0.99      0.98      0.99       135\n",
      "         D06       0.91      0.93      0.92        87\n",
      "         D07       0.92      0.96      0.94       306\n",
      "         D08       0.92      0.94      0.93       131\n",
      "         D09       0.98      0.91      0.94       150\n",
      "         D10       0.97      1.00      0.98        87\n",
      "         H01       0.88      0.89      0.89        57\n",
      "         H02       0.92      0.90      0.91        39\n",
      "         H03       0.84      0.89      0.86       141\n",
      "         H04       0.80      0.70      0.74        73\n",
      "         H05       0.68      0.72      0.70        93\n",
      "         H06       0.76      0.77      0.77       122\n",
      "         H07       0.85      0.84      0.85       147\n",
      "         H08       0.79      0.74      0.76        35\n",
      "\n",
      "    accuracy                           0.90      1966\n",
      "   macro avg       0.89      0.88      0.89      1966\n",
      "weighted avg       0.90      0.90      0.90      1966\n",
      "\n"
     ]
    },
    {
     "name": "stderr",
     "output_type": "stream",
     "text": [
      "/Library/Frameworks/Python.framework/Versions/3.6/lib/python3.6/site-packages/sklearn/linear_model/logistic.py:469: FutureWarning: Default multi_class will be changed to 'auto' in 0.22. Specify the multi_class option to silence this warning.\n",
      "  \"this warning.\", FutureWarning)\n"
     ]
    },
    {
     "name": "stdout",
     "output_type": "stream",
     "text": [
      "              precision    recall  f1-score   support\n",
      "\n",
      "         D01       0.93      0.92      0.93       145\n",
      "         D02       0.98      0.98      0.98        99\n",
      "         D03       0.92      0.97      0.94        58\n",
      "         D04       0.98      0.87      0.92        61\n",
      "         D05       0.94      0.98      0.96       135\n",
      "         D06       0.95      0.79      0.86        87\n",
      "         D07       0.90      0.95      0.92       306\n",
      "         D08       0.91      0.93      0.92       131\n",
      "         D09       0.98      0.93      0.95       150\n",
      "         D10       0.98      0.99      0.98        87\n",
      "         H01       0.89      0.88      0.88        57\n",
      "         H02       0.88      0.92      0.90        39\n",
      "         H03       0.84      0.89      0.87       141\n",
      "         H04       0.79      0.71      0.75        73\n",
      "         H05       0.71      0.81      0.75        93\n",
      "         H06       0.77      0.75      0.76       122\n",
      "         H07       0.85      0.82      0.83       147\n",
      "         H08       0.78      0.51      0.62        35\n",
      "\n",
      "    accuracy                           0.89      1966\n",
      "   macro avg       0.89      0.87      0.87      1966\n",
      "weighted avg       0.89      0.89      0.89      1966\n",
      "\n"
     ]
    }
   ],
   "source": [
    "for model in models:\n",
    "    model.fit(X_train, y_train)\n",
    "    \n",
    "    pred = model.predict(X_test)\n",
    "    print(classification_report(y_test, pred))"
   ]
  },
  {
   "cell_type": "code",
   "execution_count": 40,
   "metadata": {},
   "outputs": [
    {
     "name": "stdout",
     "output_type": "stream",
     "text": [
      "              precision    recall  f1-score   support\n",
      "\n",
      "         D01       0.96      0.92      0.94       145\n",
      "         D02       0.98      0.98      0.98        99\n",
      "         D03       0.92      0.98      0.95        58\n",
      "         D04       0.98      0.89      0.93        61\n",
      "         D05       0.99      0.98      0.98       135\n",
      "         D06       0.92      0.91      0.91        87\n",
      "         D07       0.91      0.96      0.93       306\n",
      "         D08       0.90      0.93      0.92       131\n",
      "         D09       0.98      0.91      0.94       150\n",
      "         D10       0.98      1.00      0.99        87\n",
      "         H01       0.86      0.89      0.88        57\n",
      "         H02       0.92      0.90      0.91        39\n",
      "         H03       0.85      0.90      0.87       141\n",
      "         H04       0.82      0.75      0.79        73\n",
      "         H05       0.70      0.80      0.75        93\n",
      "         H06       0.78      0.74      0.76       122\n",
      "         H07       0.86      0.82      0.84       147\n",
      "         H08       0.77      0.69      0.73        35\n",
      "\n",
      "    accuracy                           0.90      1966\n",
      "   macro avg       0.89      0.89      0.89      1966\n",
      "weighted avg       0.90      0.90      0.90      1966\n",
      "\n"
     ]
    }
   ],
   "source": [
    "names = ['SVM', 'MLP', 'LR']\n",
    "vm = VotingClassifier(estimators=[(names[i], m) for i, m in enumerate(models)], n_jobs=-1, voting='soft')\n",
    "\n",
    "vm.fit(X_train, y_train)\n",
    "\n",
    "pred = vm.predict(X_test)\n",
    "print(classification_report(y_test, pred))"
   ]
  },
  {
   "cell_type": "code",
   "execution_count": 41,
   "metadata": {},
   "outputs": [],
   "source": [
    "from sklearn.pipeline import Pipeline"
   ]
  },
  {
   "cell_type": "code",
   "execution_count": 42,
   "metadata": {},
   "outputs": [],
   "source": [
    "qpipe = Pipeline([('fe', tfidf), ('clf', vm)])"
   ]
  },
  {
   "cell_type": "code",
   "execution_count": 43,
   "metadata": {},
   "outputs": [
    {
     "data": {
      "text/plain": [
       "array(['D08'], dtype=object)"
      ]
     },
     "execution_count": 43,
     "metadata": {},
     "output_type": "execute_result"
    }
   ],
   "source": [
    "qpipe.predict([\"cho phương trình 0^ x^0 + 0 0^ x^0 = 0^ frac x 0 + 0 . tích các giá trị của x là\"])"
   ]
  },
  {
   "cell_type": "code",
   "execution_count": 44,
   "metadata": {},
   "outputs": [],
   "source": [
    "import pickle"
   ]
  },
  {
   "cell_type": "code",
   "execution_count": 46,
   "metadata": {},
   "outputs": [],
   "source": [
    "dill.dump(qpipe, open('qmodel.pkl', 'wb'))"
   ]
  },
  {
   "cell_type": "code",
   "execution_count": 47,
   "metadata": {},
   "outputs": [],
   "source": [
    "qpipe = dill.load(open('qmodel.pkl', 'rb'))"
   ]
  },
  {
   "cell_type": "code",
   "execution_count": 48,
   "metadata": {},
   "outputs": [],
   "source": [
    "dill.dump(qpipe.steps[0][1], open('tfidf.pkl', 'wb'))\n",
    "dill.dump(qpipe.steps[1][1], open('clf.pkl', 'wb'))"
   ]
  },
  {
   "cell_type": "code",
   "execution_count": 102,
   "metadata": {},
   "outputs": [],
   "source": [
    "import time\n",
    "\n",
    "from datasketch import MinHash, MinHashLSHForest\n",
    "from datasketch.hashfunc import sha1_hash64"
   ]
  },
  {
   "cell_type": "code",
   "execution_count": 228,
   "metadata": {},
   "outputs": [],
   "source": [
    "def get_forest(data, perms):\n",
    "    start_time = time.time()\n",
    "\n",
    "    minhash = []\n",
    "\n",
    "    for text in data:\n",
    "        tokens = text.split(\" \")\n",
    "        m = MinHash(num_perm=perms)\n",
    "        for s in tokens:\n",
    "            m.update(s.encode('utf8'))\n",
    "        minhash.append(m)\n",
    "\n",
    "    forest = MinHashLSHForest(num_perm=perms)\n",
    "\n",
    "    for i, m in enumerate(minhash):\n",
    "        forest.add(i, m)\n",
    "\n",
    "    forest.index()\n",
    "\n",
    "    print('It took %s seconds to build forest.' % (time.time() - start_time))\n",
    "\n",
    "    return forest"
   ]
  },
  {
   "cell_type": "code",
   "execution_count": 229,
   "metadata": {},
   "outputs": [
    {
     "name": "stdout",
     "output_type": "stream",
     "text": [
      "It took 28.530836820602417 seconds to build forest.\n"
     ]
    }
   ],
   "source": [
    "mm = get_forest(df['content'], 512)"
   ]
  },
  {
   "cell_type": "code",
   "execution_count": 260,
   "metadata": {},
   "outputs": [],
   "source": [
    "def predict(text, database, perms, num_results, forest):\n",
    "    start_time = time.time()\n",
    "    \n",
    "    tokens = text.split(\" \")\n",
    "    m = MinHash(num_perm=perms)\n",
    "    for s in tokens:\n",
    "        m.update(s.encode('utf8'))\n",
    "        \n",
    "    idx_array = np.array(forest.query(m, num_results))\n",
    "    if len(idx_array) == 0:\n",
    "        return None # if your query is empty, return none\n",
    "    \n",
    "    print(idx_array)\n",
    "    \n",
    "    result = database.iloc[idx_array]\n",
    "    \n",
    "    print('It took %s seconds to query forest.' %(time.time()-start_time))\n",
    "    \n",
    "    return result"
   ]
  },
  {
   "cell_type": "code",
   "execution_count": 261,
   "metadata": {},
   "outputs": [],
   "source": [
    "import re\n",
    "from unidecode import unidecode\n",
    "\n",
    "def cleaner(text):\n",
    "    # normalize\n",
    "    text = unidecode(text)\n",
    "#     text = re.sub(r'[^A-Za-z ]', ' ', text.strip(' \\n\\r\\t'))\n",
    "    text = text.lower().strip(' \\n\\r\\t')\n",
    "    text = text.replace('\\\\', ' ').strip(' \\n\\r\\t')\n",
    "    text = text.replace('-', '+')\n",
    "    text = re.sub(r'[0-9]+', '0', text.strip(' \\n\\r\\t'))\n",
    "    text = re.sub(r'[\\[\\]}{()]', ' ', text.strip(' \\n\\r\\t'))\n",
    "    text = re.sub(r'(?<=[^0-9])\\.(?=\\d+)', '', text.strip(' \\n\\r\\t'))\n",
    "    text = re.sub(r'\\|<\\|0+0a+0+image0\\|>\\||\\\\|<\\/font>|<font|color=\"#[0-9]+\">|<img src=\"[^>]+\" \\/>|<i>|</i>|<br| \\/>', '', text.strip(' \\n\\r\\t'))\n",
    "    text = re.sub(r'[ ]{2,}', ' ', text.strip(' \\n\\r\\t'))\n",
    "    return text.strip(' \\n\\r\\t')"
   ]
  },
  {
   "cell_type": "code",
   "execution_count": 262,
   "metadata": {},
   "outputs": [
    {
     "data": {
      "text/plain": [
       "'hai cat thang cat nhau la 0 duong thang dong phang. answers: dung | sai'"
      ]
     },
     "execution_count": 262,
     "metadata": {},
     "output_type": "execute_result"
    }
   ],
   "source": [
    "v = db['content'].values[0]\n",
    "v = cleaner(\"Hai cắt thẳng cắt nhau là 2 đường thẳng đồng phẳng. answers: Đúng | Sai\")\n",
    "v"
   ]
  },
  {
   "cell_type": "code",
   "execution_count": 263,
   "metadata": {},
   "outputs": [
    {
     "name": "stdout",
     "output_type": "stream",
     "text": [
      "[ 682 8235  978  472   93]\n",
      "It took 0.012655019760131836 seconds to query forest.\n",
      "\n",
      " Top Recommendation(s) is(are) \n",
      "      label                                            content\n",
      "5244   H01  hai duong thang cheo nhau la 0 duong thang kho...\n",
      "3555   H01  hai duong thang cat nhau la 0 duong thang dong...\n",
      "4744   H06  trung diem cac canh cua mot tu dien deu la cac...\n",
      "4769   H06  tam cac mat cua mot hinh lap phuong la cac din...\n",
      "581    H06  tam cac mat cua mot hinh tu dien deu la cac di...\n"
     ]
    }
   ],
   "source": [
    "result = predict(v, df, 512, 5, mm)\n",
    "print('\\n Top Recommendation(s) is(are) \\n', result)"
   ]
  },
  {
   "cell_type": "code",
   "execution_count": 243,
   "metadata": {},
   "outputs": [
    {
     "data": {
      "text/plain": [
       "'hai duong thang cheo nhau la 0 duong thang khong dong phang. answers: dung | sai'"
      ]
     },
     "execution_count": 243,
     "metadata": {},
     "output_type": "execute_result"
    }
   ],
   "source": [
    "df['content'].values[682]"
   ]
  },
  {
   "cell_type": "code",
   "execution_count": null,
   "metadata": {},
   "outputs": [],
   "source": []
  }
 ],
 "metadata": {
  "kernelspec": {
   "display_name": "Python 3",
   "language": "python",
   "name": "python3"
  },
  "language_info": {
   "codemirror_mode": {
    "name": "ipython",
    "version": 3
   },
   "file_extension": ".py",
   "mimetype": "text/x-python",
   "name": "python",
   "nbconvert_exporter": "python",
   "pygments_lexer": "ipython3",
   "version": "3.6.8"
  }
 },
 "nbformat": 4,
 "nbformat_minor": 2
}
